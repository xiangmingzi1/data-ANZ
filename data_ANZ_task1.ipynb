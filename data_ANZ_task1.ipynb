{
  "nbformat": 4,
  "nbformat_minor": 0,
  "metadata": {
    "colab": {
      "name": "data@ANZ.ipynb",
      "provenance": [],
      "collapsed_sections": [],
      "authorship_tag": "ABX9TyP0XuFgMTiYrCmQknwLufuB",
      "include_colab_link": true
    },
    "kernelspec": {
      "name": "python3",
      "display_name": "Python 3"
    },
    "language_info": {
      "name": "python"
    }
  },
  "cells": [
    {
      "cell_type": "markdown",
      "metadata": {
        "id": "view-in-github",
        "colab_type": "text"
      },
      "source": [
        "<a href=\"https://colab.research.google.com/github/xiangmingzi1/data-ANZ/blob/main/data_ANZ_task1.ipynb\" target=\"_parent\"><img src=\"https://colab.research.google.com/assets/colab-badge.svg\" alt=\"Open In Colab\"/></a>"
      ]
    },
    {
      "cell_type": "code",
      "metadata": {
        "id": "24eTGIBRMxlM"
      },
      "source": [
        "import pandas as pd\n",
        "import numpy as np\n",
        "import seaborn as sns\n",
        "import math"
      ],
      "execution_count": null,
      "outputs": []
    },
    {
      "cell_type": "code",
      "metadata": {
        "id": "xXCkUzEONd2f"
      },
      "source": [
        "data = pd.read_excel(\"/content/ANZ synthesised transaction dataset.xlsx\")"
      ],
      "execution_count": null,
      "outputs": []
    },
    {
      "cell_type": "code",
      "metadata": {
        "colab": {
          "base_uri": "https://localhost:8080/",
          "height": 487
        },
        "id": "JdMs0v_bODzL",
        "outputId": "bfcaf173-d138-44fb-bf91-ac926802e632"
      },
      "source": [
        "data.head()"
      ],
      "execution_count": null,
      "outputs": [
        {
          "output_type": "execute_result",
          "data": {
            "text/html": [
              "<div>\n",
              "<style scoped>\n",
              "    .dataframe tbody tr th:only-of-type {\n",
              "        vertical-align: middle;\n",
              "    }\n",
              "\n",
              "    .dataframe tbody tr th {\n",
              "        vertical-align: top;\n",
              "    }\n",
              "\n",
              "    .dataframe thead th {\n",
              "        text-align: right;\n",
              "    }\n",
              "</style>\n",
              "<table border=\"1\" class=\"dataframe\">\n",
              "  <thead>\n",
              "    <tr style=\"text-align: right;\">\n",
              "      <th></th>\n",
              "      <th>status</th>\n",
              "      <th>card_present_flag</th>\n",
              "      <th>bpay_biller_code</th>\n",
              "      <th>account</th>\n",
              "      <th>currency</th>\n",
              "      <th>long_lat</th>\n",
              "      <th>txn_description</th>\n",
              "      <th>merchant_id</th>\n",
              "      <th>merchant_code</th>\n",
              "      <th>first_name</th>\n",
              "      <th>balance</th>\n",
              "      <th>date</th>\n",
              "      <th>gender</th>\n",
              "      <th>age</th>\n",
              "      <th>merchant_suburb</th>\n",
              "      <th>merchant_state</th>\n",
              "      <th>extraction</th>\n",
              "      <th>amount</th>\n",
              "      <th>transaction_id</th>\n",
              "      <th>country</th>\n",
              "      <th>customer_id</th>\n",
              "      <th>merchant_long_lat</th>\n",
              "      <th>movement</th>\n",
              "    </tr>\n",
              "  </thead>\n",
              "  <tbody>\n",
              "    <tr>\n",
              "      <th>0</th>\n",
              "      <td>authorized</td>\n",
              "      <td>1.0</td>\n",
              "      <td>NaN</td>\n",
              "      <td>ACC-1598451071</td>\n",
              "      <td>AUD</td>\n",
              "      <td>153.41 -27.95</td>\n",
              "      <td>POS</td>\n",
              "      <td>81c48296-73be-44a7-befa-d053f48ce7cd</td>\n",
              "      <td>NaN</td>\n",
              "      <td>Diana</td>\n",
              "      <td>35.39</td>\n",
              "      <td>2018-08-01</td>\n",
              "      <td>F</td>\n",
              "      <td>26</td>\n",
              "      <td>Ashmore</td>\n",
              "      <td>QLD</td>\n",
              "      <td>2018-08-01T01:01:15.000+0000</td>\n",
              "      <td>16.25</td>\n",
              "      <td>a623070bfead4541a6b0fff8a09e706c</td>\n",
              "      <td>Australia</td>\n",
              "      <td>CUS-2487424745</td>\n",
              "      <td>153.38 -27.99</td>\n",
              "      <td>debit</td>\n",
              "    </tr>\n",
              "    <tr>\n",
              "      <th>1</th>\n",
              "      <td>authorized</td>\n",
              "      <td>0.0</td>\n",
              "      <td>NaN</td>\n",
              "      <td>ACC-1598451071</td>\n",
              "      <td>AUD</td>\n",
              "      <td>153.41 -27.95</td>\n",
              "      <td>SALES-POS</td>\n",
              "      <td>830a451c-316e-4a6a-bf25-e37caedca49e</td>\n",
              "      <td>NaN</td>\n",
              "      <td>Diana</td>\n",
              "      <td>21.20</td>\n",
              "      <td>2018-08-01</td>\n",
              "      <td>F</td>\n",
              "      <td>26</td>\n",
              "      <td>Sydney</td>\n",
              "      <td>NSW</td>\n",
              "      <td>2018-08-01T01:13:45.000+0000</td>\n",
              "      <td>14.19</td>\n",
              "      <td>13270a2a902145da9db4c951e04b51b9</td>\n",
              "      <td>Australia</td>\n",
              "      <td>CUS-2487424745</td>\n",
              "      <td>151.21 -33.87</td>\n",
              "      <td>debit</td>\n",
              "    </tr>\n",
              "    <tr>\n",
              "      <th>2</th>\n",
              "      <td>authorized</td>\n",
              "      <td>1.0</td>\n",
              "      <td>NaN</td>\n",
              "      <td>ACC-1222300524</td>\n",
              "      <td>AUD</td>\n",
              "      <td>151.23 -33.94</td>\n",
              "      <td>POS</td>\n",
              "      <td>835c231d-8cdf-4e96-859d-e9d571760cf0</td>\n",
              "      <td>NaN</td>\n",
              "      <td>Michael</td>\n",
              "      <td>5.71</td>\n",
              "      <td>2018-08-01</td>\n",
              "      <td>M</td>\n",
              "      <td>38</td>\n",
              "      <td>Sydney</td>\n",
              "      <td>NSW</td>\n",
              "      <td>2018-08-01T01:26:15.000+0000</td>\n",
              "      <td>6.42</td>\n",
              "      <td>feb79e7ecd7048a5a36ec889d1a94270</td>\n",
              "      <td>Australia</td>\n",
              "      <td>CUS-2142601169</td>\n",
              "      <td>151.21 -33.87</td>\n",
              "      <td>debit</td>\n",
              "    </tr>\n",
              "    <tr>\n",
              "      <th>3</th>\n",
              "      <td>authorized</td>\n",
              "      <td>1.0</td>\n",
              "      <td>NaN</td>\n",
              "      <td>ACC-1037050564</td>\n",
              "      <td>AUD</td>\n",
              "      <td>153.10 -27.66</td>\n",
              "      <td>SALES-POS</td>\n",
              "      <td>48514682-c78a-4a88-b0da-2d6302e64673</td>\n",
              "      <td>NaN</td>\n",
              "      <td>Rhonda</td>\n",
              "      <td>2117.22</td>\n",
              "      <td>2018-08-01</td>\n",
              "      <td>F</td>\n",
              "      <td>40</td>\n",
              "      <td>Buderim</td>\n",
              "      <td>QLD</td>\n",
              "      <td>2018-08-01T01:38:45.000+0000</td>\n",
              "      <td>40.90</td>\n",
              "      <td>2698170da3704fd981b15e64a006079e</td>\n",
              "      <td>Australia</td>\n",
              "      <td>CUS-1614226872</td>\n",
              "      <td>153.05 -26.68</td>\n",
              "      <td>debit</td>\n",
              "    </tr>\n",
              "    <tr>\n",
              "      <th>4</th>\n",
              "      <td>authorized</td>\n",
              "      <td>1.0</td>\n",
              "      <td>NaN</td>\n",
              "      <td>ACC-1598451071</td>\n",
              "      <td>AUD</td>\n",
              "      <td>153.41 -27.95</td>\n",
              "      <td>SALES-POS</td>\n",
              "      <td>b4e02c10-0852-4273-b8fd-7b3395e32eb0</td>\n",
              "      <td>NaN</td>\n",
              "      <td>Diana</td>\n",
              "      <td>17.95</td>\n",
              "      <td>2018-08-01</td>\n",
              "      <td>F</td>\n",
              "      <td>26</td>\n",
              "      <td>Mermaid Beach</td>\n",
              "      <td>QLD</td>\n",
              "      <td>2018-08-01T01:51:15.000+0000</td>\n",
              "      <td>3.25</td>\n",
              "      <td>329adf79878c4cf0aeb4188b4691c266</td>\n",
              "      <td>Australia</td>\n",
              "      <td>CUS-2487424745</td>\n",
              "      <td>153.44 -28.06</td>\n",
              "      <td>debit</td>\n",
              "    </tr>\n",
              "  </tbody>\n",
              "</table>\n",
              "</div>"
            ],
            "text/plain": [
              "       status  card_present_flag  ... merchant_long_lat movement\n",
              "0  authorized                1.0  ...     153.38 -27.99    debit\n",
              "1  authorized                0.0  ...     151.21 -33.87    debit\n",
              "2  authorized                1.0  ...     151.21 -33.87    debit\n",
              "3  authorized                1.0  ...     153.05 -26.68    debit\n",
              "4  authorized                1.0  ...     153.44 -28.06    debit\n",
              "\n",
              "[5 rows x 23 columns]"
            ]
          },
          "metadata": {},
          "execution_count": 6
        }
      ]
    },
    {
      "cell_type": "code",
      "metadata": {
        "id": "bCjO6opDOIBS",
        "colab": {
          "base_uri": "https://localhost:8080/",
          "height": 300
        },
        "outputId": "8164cdb7-a4d7-4bb8-ae2f-83a621337745"
      },
      "source": [
        "data.describe()"
      ],
      "execution_count": null,
      "outputs": [
        {
          "output_type": "execute_result",
          "data": {
            "text/html": [
              "<div>\n",
              "<style scoped>\n",
              "    .dataframe tbody tr th:only-of-type {\n",
              "        vertical-align: middle;\n",
              "    }\n",
              "\n",
              "    .dataframe tbody tr th {\n",
              "        vertical-align: top;\n",
              "    }\n",
              "\n",
              "    .dataframe thead th {\n",
              "        text-align: right;\n",
              "    }\n",
              "</style>\n",
              "<table border=\"1\" class=\"dataframe\">\n",
              "  <thead>\n",
              "    <tr style=\"text-align: right;\">\n",
              "      <th></th>\n",
              "      <th>card_present_flag</th>\n",
              "      <th>merchant_code</th>\n",
              "      <th>balance</th>\n",
              "      <th>age</th>\n",
              "      <th>amount</th>\n",
              "    </tr>\n",
              "  </thead>\n",
              "  <tbody>\n",
              "    <tr>\n",
              "      <th>count</th>\n",
              "      <td>7717.000000</td>\n",
              "      <td>883.0</td>\n",
              "      <td>12043.000000</td>\n",
              "      <td>12043.000000</td>\n",
              "      <td>12043.000000</td>\n",
              "    </tr>\n",
              "    <tr>\n",
              "      <th>mean</th>\n",
              "      <td>0.802644</td>\n",
              "      <td>0.0</td>\n",
              "      <td>14704.195553</td>\n",
              "      <td>30.582330</td>\n",
              "      <td>187.933588</td>\n",
              "    </tr>\n",
              "    <tr>\n",
              "      <th>std</th>\n",
              "      <td>0.398029</td>\n",
              "      <td>0.0</td>\n",
              "      <td>31503.722652</td>\n",
              "      <td>10.046343</td>\n",
              "      <td>592.599934</td>\n",
              "    </tr>\n",
              "    <tr>\n",
              "      <th>min</th>\n",
              "      <td>0.000000</td>\n",
              "      <td>0.0</td>\n",
              "      <td>0.240000</td>\n",
              "      <td>18.000000</td>\n",
              "      <td>0.100000</td>\n",
              "    </tr>\n",
              "    <tr>\n",
              "      <th>25%</th>\n",
              "      <td>1.000000</td>\n",
              "      <td>0.0</td>\n",
              "      <td>3158.585000</td>\n",
              "      <td>22.000000</td>\n",
              "      <td>16.000000</td>\n",
              "    </tr>\n",
              "    <tr>\n",
              "      <th>50%</th>\n",
              "      <td>1.000000</td>\n",
              "      <td>0.0</td>\n",
              "      <td>6432.010000</td>\n",
              "      <td>28.000000</td>\n",
              "      <td>29.000000</td>\n",
              "    </tr>\n",
              "    <tr>\n",
              "      <th>75%</th>\n",
              "      <td>1.000000</td>\n",
              "      <td>0.0</td>\n",
              "      <td>12465.945000</td>\n",
              "      <td>38.000000</td>\n",
              "      <td>53.655000</td>\n",
              "    </tr>\n",
              "    <tr>\n",
              "      <th>max</th>\n",
              "      <td>1.000000</td>\n",
              "      <td>0.0</td>\n",
              "      <td>267128.520000</td>\n",
              "      <td>78.000000</td>\n",
              "      <td>8835.980000</td>\n",
              "    </tr>\n",
              "  </tbody>\n",
              "</table>\n",
              "</div>"
            ],
            "text/plain": [
              "       card_present_flag  merchant_code  ...           age        amount\n",
              "count        7717.000000          883.0  ...  12043.000000  12043.000000\n",
              "mean            0.802644            0.0  ...     30.582330    187.933588\n",
              "std             0.398029            0.0  ...     10.046343    592.599934\n",
              "min             0.000000            0.0  ...     18.000000      0.100000\n",
              "25%             1.000000            0.0  ...     22.000000     16.000000\n",
              "50%             1.000000            0.0  ...     28.000000     29.000000\n",
              "75%             1.000000            0.0  ...     38.000000     53.655000\n",
              "max             1.000000            0.0  ...     78.000000   8835.980000\n",
              "\n",
              "[8 rows x 5 columns]"
            ]
          },
          "metadata": {},
          "execution_count": 7
        }
      ]
    },
    {
      "cell_type": "code",
      "metadata": {
        "id": "xyv9RzFfPDBw",
        "colab": {
          "base_uri": "https://localhost:8080/"
        },
        "outputId": "3265b6e9-eb2e-477c-9916-94c88ed06086"
      },
      "source": [
        "data.shape"
      ],
      "execution_count": null,
      "outputs": [
        {
          "output_type": "execute_result",
          "data": {
            "text/plain": [
              "(12043, 23)"
            ]
          },
          "metadata": {},
          "execution_count": 8
        }
      ]
    },
    {
      "cell_type": "code",
      "metadata": {
        "id": "IRryZDjHPX6Q",
        "colab": {
          "base_uri": "https://localhost:8080/"
        },
        "outputId": "c2f7d26a-0559-450a-d865-c0c918893998"
      },
      "source": [
        "a = data['amount']\n",
        "avg_transaction_amt = a.sum()/a.count()\n",
        "print(avg_transaction_amt)"
      ],
      "execution_count": null,
      "outputs": [
        {
          "output_type": "stream",
          "name": "stdout",
          "text": [
            "187.93358797641784\n"
          ]
        }
      ]
    },
    {
      "cell_type": "code",
      "metadata": {
        "id": "bCyfr1rvQI09",
        "colab": {
          "base_uri": "https://localhost:8080/"
        },
        "outputId": "e31cb1ff-c066-4f46-d27a-27478d334d4f"
      },
      "source": [
        "data.columns"
      ],
      "execution_count": null,
      "outputs": [
        {
          "output_type": "execute_result",
          "data": {
            "text/plain": [
              "Index(['status', 'card_present_flag', 'bpay_biller_code', 'account',\n",
              "       'currency', 'long_lat', 'txn_description', 'merchant_id',\n",
              "       'merchant_code', 'first_name', 'balance', 'date', 'gender', 'age',\n",
              "       'merchant_suburb', 'merchant_state', 'extraction', 'amount',\n",
              "       'transaction_id', 'country', 'customer_id', 'merchant_long_lat',\n",
              "       'movement'],\n",
              "      dtype='object')"
            ]
          },
          "metadata": {},
          "execution_count": 10
        }
      ]
    },
    {
      "cell_type": "code",
      "metadata": {
        "id": "5iWxTL9bQiA3",
        "colab": {
          "base_uri": "https://localhost:8080/"
        },
        "outputId": "1c19264a-dc71-4529-d43e-a0644d9cf95f"
      },
      "source": [
        "data.nunique()"
      ],
      "execution_count": null,
      "outputs": [
        {
          "output_type": "execute_result",
          "data": {
            "text/plain": [
              "status                   2\n",
              "card_present_flag        2\n",
              "bpay_biller_code         3\n",
              "account                100\n",
              "currency                 1\n",
              "long_lat               100\n",
              "txn_description          6\n",
              "merchant_id           5725\n",
              "merchant_code            1\n",
              "first_name              80\n",
              "balance              12006\n",
              "date                    91\n",
              "gender                   2\n",
              "age                     33\n",
              "merchant_suburb       1609\n",
              "merchant_state           8\n",
              "extraction            9442\n",
              "amount                4457\n",
              "transaction_id       12043\n",
              "country                  1\n",
              "customer_id            100\n",
              "merchant_long_lat     2703\n",
              "movement                 2\n",
              "dtype: int64"
            ]
          },
          "metadata": {},
          "execution_count": 11
        }
      ]
    },
    {
      "cell_type": "code",
      "metadata": {
        "id": "EYFGZeqKQpid",
        "colab": {
          "base_uri": "https://localhost:8080/"
        },
        "outputId": "bc81093c-9a92-4e46-b438-79c0cc508ab8"
      },
      "source": [
        "data['movement'].unique()"
      ],
      "execution_count": null,
      "outputs": [
        {
          "output_type": "execute_result",
          "data": {
            "text/plain": [
              "array(['debit', 'credit'], dtype=object)"
            ]
          },
          "metadata": {},
          "execution_count": 12
        }
      ]
    },
    {
      "cell_type": "code",
      "metadata": {
        "id": "rvdmDaWhRNFy",
        "colab": {
          "base_uri": "https://localhost:8080/"
        },
        "outputId": "a0d02a5c-9dbd-4965-826d-c10875ff02f4"
      },
      "source": [
        "data.isnull().sum()"
      ],
      "execution_count": null,
      "outputs": [
        {
          "output_type": "execute_result",
          "data": {
            "text/plain": [
              "status                   0\n",
              "card_present_flag     4326\n",
              "bpay_biller_code     11158\n",
              "account                  0\n",
              "currency                 0\n",
              "long_lat                 0\n",
              "txn_description          0\n",
              "merchant_id           4326\n",
              "merchant_code        11160\n",
              "first_name               0\n",
              "balance                  0\n",
              "date                     0\n",
              "gender                   0\n",
              "age                      0\n",
              "merchant_suburb       4326\n",
              "merchant_state        4326\n",
              "extraction               0\n",
              "amount                   0\n",
              "transaction_id           0\n",
              "country                  0\n",
              "customer_id              0\n",
              "merchant_long_lat     4326\n",
              "movement                 0\n",
              "dtype: int64"
            ]
          },
          "metadata": {},
          "execution_count": 13
        }
      ]
    },
    {
      "cell_type": "code",
      "metadata": {
        "id": "ZPjbVCscRT8Y"
      },
      "source": [
        "fdata = data.drop(['merchant_code','country','currency'], axis = 1)"
      ],
      "execution_count": null,
      "outputs": []
    },
    {
      "cell_type": "code",
      "metadata": {
        "id": "nVGr-WIUR-GR",
        "colab": {
          "base_uri": "https://localhost:8080/",
          "height": 487
        },
        "outputId": "7ab54d32-47c1-4178-a92d-8957b903973a"
      },
      "source": [
        "fdata.head()"
      ],
      "execution_count": null,
      "outputs": [
        {
          "output_type": "execute_result",
          "data": {
            "text/html": [
              "<div>\n",
              "<style scoped>\n",
              "    .dataframe tbody tr th:only-of-type {\n",
              "        vertical-align: middle;\n",
              "    }\n",
              "\n",
              "    .dataframe tbody tr th {\n",
              "        vertical-align: top;\n",
              "    }\n",
              "\n",
              "    .dataframe thead th {\n",
              "        text-align: right;\n",
              "    }\n",
              "</style>\n",
              "<table border=\"1\" class=\"dataframe\">\n",
              "  <thead>\n",
              "    <tr style=\"text-align: right;\">\n",
              "      <th></th>\n",
              "      <th>status</th>\n",
              "      <th>card_present_flag</th>\n",
              "      <th>bpay_biller_code</th>\n",
              "      <th>account</th>\n",
              "      <th>long_lat</th>\n",
              "      <th>txn_description</th>\n",
              "      <th>merchant_id</th>\n",
              "      <th>first_name</th>\n",
              "      <th>balance</th>\n",
              "      <th>date</th>\n",
              "      <th>gender</th>\n",
              "      <th>age</th>\n",
              "      <th>merchant_suburb</th>\n",
              "      <th>merchant_state</th>\n",
              "      <th>extraction</th>\n",
              "      <th>amount</th>\n",
              "      <th>transaction_id</th>\n",
              "      <th>customer_id</th>\n",
              "      <th>merchant_long_lat</th>\n",
              "      <th>movement</th>\n",
              "    </tr>\n",
              "  </thead>\n",
              "  <tbody>\n",
              "    <tr>\n",
              "      <th>0</th>\n",
              "      <td>authorized</td>\n",
              "      <td>1.0</td>\n",
              "      <td>NaN</td>\n",
              "      <td>ACC-1598451071</td>\n",
              "      <td>153.41 -27.95</td>\n",
              "      <td>POS</td>\n",
              "      <td>81c48296-73be-44a7-befa-d053f48ce7cd</td>\n",
              "      <td>Diana</td>\n",
              "      <td>35.39</td>\n",
              "      <td>2018-08-01</td>\n",
              "      <td>F</td>\n",
              "      <td>26</td>\n",
              "      <td>Ashmore</td>\n",
              "      <td>QLD</td>\n",
              "      <td>2018-08-01T01:01:15.000+0000</td>\n",
              "      <td>16.25</td>\n",
              "      <td>a623070bfead4541a6b0fff8a09e706c</td>\n",
              "      <td>CUS-2487424745</td>\n",
              "      <td>153.38 -27.99</td>\n",
              "      <td>debit</td>\n",
              "    </tr>\n",
              "    <tr>\n",
              "      <th>1</th>\n",
              "      <td>authorized</td>\n",
              "      <td>0.0</td>\n",
              "      <td>NaN</td>\n",
              "      <td>ACC-1598451071</td>\n",
              "      <td>153.41 -27.95</td>\n",
              "      <td>SALES-POS</td>\n",
              "      <td>830a451c-316e-4a6a-bf25-e37caedca49e</td>\n",
              "      <td>Diana</td>\n",
              "      <td>21.20</td>\n",
              "      <td>2018-08-01</td>\n",
              "      <td>F</td>\n",
              "      <td>26</td>\n",
              "      <td>Sydney</td>\n",
              "      <td>NSW</td>\n",
              "      <td>2018-08-01T01:13:45.000+0000</td>\n",
              "      <td>14.19</td>\n",
              "      <td>13270a2a902145da9db4c951e04b51b9</td>\n",
              "      <td>CUS-2487424745</td>\n",
              "      <td>151.21 -33.87</td>\n",
              "      <td>debit</td>\n",
              "    </tr>\n",
              "    <tr>\n",
              "      <th>2</th>\n",
              "      <td>authorized</td>\n",
              "      <td>1.0</td>\n",
              "      <td>NaN</td>\n",
              "      <td>ACC-1222300524</td>\n",
              "      <td>151.23 -33.94</td>\n",
              "      <td>POS</td>\n",
              "      <td>835c231d-8cdf-4e96-859d-e9d571760cf0</td>\n",
              "      <td>Michael</td>\n",
              "      <td>5.71</td>\n",
              "      <td>2018-08-01</td>\n",
              "      <td>M</td>\n",
              "      <td>38</td>\n",
              "      <td>Sydney</td>\n",
              "      <td>NSW</td>\n",
              "      <td>2018-08-01T01:26:15.000+0000</td>\n",
              "      <td>6.42</td>\n",
              "      <td>feb79e7ecd7048a5a36ec889d1a94270</td>\n",
              "      <td>CUS-2142601169</td>\n",
              "      <td>151.21 -33.87</td>\n",
              "      <td>debit</td>\n",
              "    </tr>\n",
              "    <tr>\n",
              "      <th>3</th>\n",
              "      <td>authorized</td>\n",
              "      <td>1.0</td>\n",
              "      <td>NaN</td>\n",
              "      <td>ACC-1037050564</td>\n",
              "      <td>153.10 -27.66</td>\n",
              "      <td>SALES-POS</td>\n",
              "      <td>48514682-c78a-4a88-b0da-2d6302e64673</td>\n",
              "      <td>Rhonda</td>\n",
              "      <td>2117.22</td>\n",
              "      <td>2018-08-01</td>\n",
              "      <td>F</td>\n",
              "      <td>40</td>\n",
              "      <td>Buderim</td>\n",
              "      <td>QLD</td>\n",
              "      <td>2018-08-01T01:38:45.000+0000</td>\n",
              "      <td>40.90</td>\n",
              "      <td>2698170da3704fd981b15e64a006079e</td>\n",
              "      <td>CUS-1614226872</td>\n",
              "      <td>153.05 -26.68</td>\n",
              "      <td>debit</td>\n",
              "    </tr>\n",
              "    <tr>\n",
              "      <th>4</th>\n",
              "      <td>authorized</td>\n",
              "      <td>1.0</td>\n",
              "      <td>NaN</td>\n",
              "      <td>ACC-1598451071</td>\n",
              "      <td>153.41 -27.95</td>\n",
              "      <td>SALES-POS</td>\n",
              "      <td>b4e02c10-0852-4273-b8fd-7b3395e32eb0</td>\n",
              "      <td>Diana</td>\n",
              "      <td>17.95</td>\n",
              "      <td>2018-08-01</td>\n",
              "      <td>F</td>\n",
              "      <td>26</td>\n",
              "      <td>Mermaid Beach</td>\n",
              "      <td>QLD</td>\n",
              "      <td>2018-08-01T01:51:15.000+0000</td>\n",
              "      <td>3.25</td>\n",
              "      <td>329adf79878c4cf0aeb4188b4691c266</td>\n",
              "      <td>CUS-2487424745</td>\n",
              "      <td>153.44 -28.06</td>\n",
              "      <td>debit</td>\n",
              "    </tr>\n",
              "  </tbody>\n",
              "</table>\n",
              "</div>"
            ],
            "text/plain": [
              "       status  card_present_flag  ... merchant_long_lat movement\n",
              "0  authorized                1.0  ...     153.38 -27.99    debit\n",
              "1  authorized                0.0  ...     151.21 -33.87    debit\n",
              "2  authorized                1.0  ...     151.21 -33.87    debit\n",
              "3  authorized                1.0  ...     153.05 -26.68    debit\n",
              "4  authorized                1.0  ...     153.44 -28.06    debit\n",
              "\n",
              "[5 rows x 20 columns]"
            ]
          },
          "metadata": {},
          "execution_count": 15
        }
      ]
    },
    {
      "cell_type": "code",
      "metadata": {
        "id": "kJhnNDBwSFAE",
        "colab": {
          "base_uri": "https://localhost:8080/",
          "height": 387
        },
        "outputId": "e0dc8556-25ef-4d8d-fa81-d8b85d80236f"
      },
      "source": [
        "sns.relplot(x = 'card_present_flag', y = 'balance', hue = 'gender', data = fdata)"
      ],
      "execution_count": null,
      "outputs": [
        {
          "output_type": "execute_result",
          "data": {
            "text/plain": [
              "<seaborn.axisgrid.FacetGrid at 0x7f8e54be6890>"
            ]
          },
          "metadata": {},
          "execution_count": 16
        },
        {
          "output_type": "display_data",
          "data": {
            "image/png": "[encoded data removed]",
            "text/plain": [
              "<Figure size 404.625x360 with 1 Axes>"
            ]
          },
          "metadata": {
            "needs_background": "light"
          }
        }
      ]
    },
    {
      "cell_type": "code",
      "metadata": {
        "id": "B-KpBEQcSrPn"
      },
      "source": [
        "sns.displot(fdata['balance'])"
      ],
      "execution_count": null,
      "outputs": []
    },
    {
      "cell_type": "code",
      "metadata": {
        "id": "z_CwFf4-TBTT"
      },
      "source": [
        "sns.boxplot(fdata['balance'])"
      ],
      "execution_count": null,
      "outputs": []
    },
    {
      "cell_type": "code",
      "metadata": {
        "id": "jr460R7JTKXm"
      },
      "source": [
        "sns.displot(fdata['age'])"
      ],
      "execution_count": null,
      "outputs": []
    },
    {
      "cell_type": "code",
      "metadata": {
        "id": "A9D9-ZcXTY--"
      },
      "source": [
        ""
      ],
      "execution_count": null,
      "outputs": []
    }
  ]
}